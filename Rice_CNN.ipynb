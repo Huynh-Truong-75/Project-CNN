{
  "nbformat": 4,
  "nbformat_minor": 0,
  "metadata": {
    "colab": {
      "provenance": [],
      "collapsed_sections": [],
      "mount_file_id": "1l1P6Apd2B_oP42wjTcwZboyG3TY6Xgh7",
      "authorship_tag": "ABX9TyP7yNMbbIjvgB+K1pdlmCTr",
      "include_colab_link": true
    },
    "kernelspec": {
      "name": "python3",
      "display_name": "Python 3"
    },
    "language_info": {
      "name": "python"
    },
    "accelerator": "GPU",
    "gpuClass": "standard"
  },
  "cells": [
    {
      "cell_type": "markdown",
      "metadata": {
        "id": "view-in-github",
        "colab_type": "text"
      },
      "source": [
        "<a href=\"https://colab.research.google.com/github/Huynh-Truong-75/Project-CNN/blob/main/Rice_CNN.ipynb\" target=\"_parent\"><img src=\"https://colab.research.google.com/assets/colab-badge.svg\" alt=\"Open In Colab\"/></a>"
      ]
    },
    {
      "cell_type": "markdown",
      "source": [
        "**https://drive.google.com/drive/folders/1wLN5sffUIEWjUNg-h2ZtuiIi5Xf9ShD7?usp=share_link**"
      ],
      "metadata": {
        "id": "-n0BtdCvxepa"
      }
    },
    {
      "cell_type": "code",
      "execution_count": null,
      "metadata": {
        "id": "otkTJa_JJX2M"
      },
      "outputs": [],
      "source": [
        "import matplotlib.pyplot            as plt\n",
        "from matplotlib.image               import imread\n",
        "from os                             import listdir\n",
        "from numpy                          import asarray\n",
        "from numpy                          import save\n",
        "from tensorflow.keras.utils         import load_img, img_to_array\n",
        "from keras.models                   import Sequential\n",
        "from keras.layers                   import Dense, Activation, Conv2D, MaxPooling2D, Flatten\n",
        "import matplotlib.pyplot            as plt\n",
        "from tensorflow.keras.optimizers    import SGD\n",
        "import numpy                        as np"
      ]
    },
    {
      "cell_type": "markdown",
      "source": [],
      "metadata": {
        "id": "L8NonSV-xk1y"
      }
    },
    {
      "cell_type": "markdown",
      "source": [
        "**Tạo Data Train**"
      ],
      "metadata": {
        "id": "ceG24RBXKEKL"
      }
    },
    {
      "cell_type": "code",
      "source": [
        "imgs, labels = list(), list()\n",
        "Arborio = '/content/drive/MyDrive/rice_train/Arborio/'\n",
        "Basmati = '/content/drive/MyDrive/rice_train/Basmati/'\n",
        "Ipsala = '/content/drive/MyDrive/rice_train/Ipsala/'\n",
        "Jasmine = '/content/drive/MyDrive/rice_train/Jasmine/'\n",
        "Karacadag = '/content/drive/MyDrive/rice_train/Karacadag/'\n",
        "\n",
        "def rice_train(path, output, rice):\n",
        "  for file in listdir(path):\n",
        "    if file.startswith(rice):\n",
        "      img = load_img(path+file,target_size=(150,150))\n",
        "      img = img_to_array(img)\n",
        "      imgs.append(img)\n",
        "      labels.append(output)\n",
        "\n",
        "rice_train(Arborio, 0, 'Arborio')\n",
        "rice_train(Basmati, 1, 'basmati')\n",
        "rice_train(Ipsala, 2, 'Ipsala')\n",
        "rice_train(Jasmine, 3, 'Jasmine')\n",
        "rice_train(Karacadag, 4, 'Karacadag')\n"
      ],
      "metadata": {
        "id": "FdoVTqftKCze"
      },
      "execution_count": null,
      "outputs": []
    },
    {
      "cell_type": "code",
      "source": [
        "imgs = asarray(imgs)\n",
        "labels = asarray(labels)\n",
        "print(imgs.shape,labels.shape)\n",
        "\n",
        "save('rice_imgs.npy', imgs)\n",
        "save('rice_labels.npy', labels)"
      ],
      "metadata": {
        "colab": {
          "base_uri": "https://localhost:8080/"
        },
        "id": "2DBiCVa5r3oQ",
        "outputId": "ddcfd3c0-64bf-456c-d8f8-1f677f1d820f"
      },
      "execution_count": null,
      "outputs": [
        {
          "output_type": "stream",
          "name": "stdout",
          "text": [
            "(5595, 150, 150, 3) (5595,)\n"
          ]
        }
      ]
    },
    {
      "cell_type": "markdown",
      "source": [
        "**Xây Dựng Model**"
      ],
      "metadata": {
        "id": "nAAbR8FhMK-b"
      }
    },
    {
      "cell_type": "code",
      "source": [
        "model = Sequential()\n",
        "model.add(Conv2D(32, kernel_size=(3,3),activation='relu',input_shape=(150,150,3), padding='same'))\n",
        "model.add(MaxPooling2D((2,2), padding = 'same'))\n",
        "\n",
        "model.add(Conv2D(64, kernel_size=(3,3),activation='relu', padding='same'))\n",
        "model.add(MaxPooling2D((2,2), padding = 'same'))\n",
        "\n",
        "model.add(Conv2D(128, kernel_size=(3,3), activation='relu', padding='same'))\n",
        "model.add(MaxPooling2D((2,2), padding = 'same'))\n",
        "\n",
        "model.add(Conv2D(256, kernel_size=(3,3), activation='relu', padding='same'))\n",
        "model.add(MaxPooling2D((2,2), padding = 'same'))\n",
        "\n",
        "model.add(Flatten())\n",
        "model.add(Dense(512, activation='relu')) \n",
        "model.add(Dense(256, activation='relu'))\n",
        "model.add(Dense(128, activation='relu'))\n",
        "model.add(Dense(5, activation='softmax'))\n",
        "model.summary()"
      ],
      "metadata": {
        "colab": {
          "base_uri": "https://localhost:8080/"
        },
        "id": "73Mo1JXoKC4G",
        "outputId": "087bb3a2-be70-423c-8bf3-37d01a92b659"
      },
      "execution_count": 7,
      "outputs": [
        {
          "output_type": "stream",
          "name": "stdout",
          "text": [
            "Model: \"sequential_1\"\n",
            "_________________________________________________________________\n",
            " Layer (type)                Output Shape              Param #   \n",
            "=================================================================\n",
            " conv2d_4 (Conv2D)           (None, 150, 150, 32)      896       \n",
            "                                                                 \n",
            " max_pooling2d_4 (MaxPooling  (None, 75, 75, 32)       0         \n",
            " 2D)                                                             \n",
            "                                                                 \n",
            " conv2d_5 (Conv2D)           (None, 75, 75, 64)        18496     \n",
            "                                                                 \n",
            " max_pooling2d_5 (MaxPooling  (None, 38, 38, 64)       0         \n",
            " 2D)                                                             \n",
            "                                                                 \n",
            " conv2d_6 (Conv2D)           (None, 38, 38, 128)       73856     \n",
            "                                                                 \n",
            " max_pooling2d_6 (MaxPooling  (None, 19, 19, 128)      0         \n",
            " 2D)                                                             \n",
            "                                                                 \n",
            " conv2d_7 (Conv2D)           (None, 19, 19, 256)       295168    \n",
            "                                                                 \n",
            " max_pooling2d_7 (MaxPooling  (None, 10, 10, 256)      0         \n",
            " 2D)                                                             \n",
            "                                                                 \n",
            " flatten_1 (Flatten)         (None, 25600)             0         \n",
            "                                                                 \n",
            " dense_4 (Dense)             (None, 512)               13107712  \n",
            "                                                                 \n",
            " dense_5 (Dense)             (None, 256)               131328    \n",
            "                                                                 \n",
            " dense_6 (Dense)             (None, 128)               32896     \n",
            "                                                                 \n",
            " dense_7 (Dense)             (None, 5)                 645       \n",
            "                                                                 \n",
            "=================================================================\n",
            "Total params: 13,660,997\n",
            "Trainable params: 13,660,997\n",
            "Non-trainable params: 0\n",
            "_________________________________________________________________\n"
          ]
        }
      ]
    },
    {
      "cell_type": "markdown",
      "source": [
        "**Diễn Dịch và Train Model**"
      ],
      "metadata": {
        "id": "5NbjAqKOR3SK"
      }
    },
    {
      "cell_type": "code",
      "source": [
        "model.compile(optimizer='Adam', loss='sparse_categorical_crossentropy', metrics=['accuracy'])\n",
        "history = model.fit(imgs, labels,batch_size=64, epochs=30, verbose=2)\n",
        "model.save('rice.h5')"
      ],
      "metadata": {
        "colab": {
          "base_uri": "https://localhost:8080/"
        },
        "id": "fRSIaUSIKC6Z",
        "outputId": "c8ad1e50-4d3e-41e3-86cc-400c394c4980"
      },
      "execution_count": 22,
      "outputs": [
        {
          "output_type": "stream",
          "name": "stdout",
          "text": [
            "Epoch 1/30\n",
            "88/88 - 6s - loss: 0.0093 - accuracy: 0.9975 - 6s/epoch - 72ms/step\n",
            "Epoch 2/30\n",
            "88/88 - 5s - loss: 0.0318 - accuracy: 0.9936 - 5s/epoch - 57ms/step\n",
            "Epoch 3/30\n",
            "88/88 - 5s - loss: 0.0135 - accuracy: 0.9968 - 5s/epoch - 58ms/step\n",
            "Epoch 4/30\n",
            "88/88 - 5s - loss: 0.0164 - accuracy: 0.9964 - 5s/epoch - 57ms/step\n",
            "Epoch 5/30\n",
            "88/88 - 5s - loss: 0.0048 - accuracy: 0.9984 - 5s/epoch - 57ms/step\n",
            "Epoch 6/30\n",
            "88/88 - 5s - loss: 0.0010 - accuracy: 0.9998 - 5s/epoch - 57ms/step\n",
            "Epoch 7/30\n",
            "88/88 - 5s - loss: 5.3804e-06 - accuracy: 1.0000 - 5s/epoch - 58ms/step\n",
            "Epoch 8/30\n",
            "88/88 - 5s - loss: 7.7263e-07 - accuracy: 1.0000 - 5s/epoch - 58ms/step\n",
            "Epoch 9/30\n",
            "88/88 - 5s - loss: 3.8977e-07 - accuracy: 1.0000 - 5s/epoch - 58ms/step\n",
            "Epoch 10/30\n",
            "88/88 - 5s - loss: 2.1006e-07 - accuracy: 1.0000 - 5s/epoch - 58ms/step\n",
            "Epoch 11/30\n",
            "88/88 - 5s - loss: 1.2671e-07 - accuracy: 1.0000 - 5s/epoch - 57ms/step\n",
            "Epoch 12/30\n",
            "88/88 - 5s - loss: 8.0644e-08 - accuracy: 1.0000 - 5s/epoch - 57ms/step\n",
            "Epoch 13/30\n",
            "88/88 - 5s - loss: 5.9636e-08 - accuracy: 1.0000 - 5s/epoch - 57ms/step\n",
            "Epoch 14/30\n",
            "88/88 - 5s - loss: 4.5766e-08 - accuracy: 1.0000 - 5s/epoch - 59ms/step\n",
            "Epoch 15/30\n",
            "88/88 - 5s - loss: 3.7286e-08 - accuracy: 1.0000 - 5s/epoch - 57ms/step\n",
            "Epoch 16/30\n",
            "88/88 - 5s - loss: 3.0745e-08 - accuracy: 1.0000 - 5s/epoch - 57ms/step\n",
            "Epoch 17/30\n",
            "88/88 - 5s - loss: 2.6249e-08 - accuracy: 1.0000 - 5s/epoch - 57ms/step\n",
            "Epoch 18/30\n",
            "88/88 - 5s - loss: 2.1967e-08 - accuracy: 1.0000 - 5s/epoch - 57ms/step\n",
            "Epoch 19/30\n",
            "88/88 - 5s - loss: 1.8920e-08 - accuracy: 1.0000 - 5s/epoch - 57ms/step\n",
            "Epoch 20/30\n",
            "88/88 - 5s - loss: 1.6512e-08 - accuracy: 1.0000 - 5s/epoch - 57ms/step\n",
            "Epoch 21/30\n",
            "88/88 - 5s - loss: 1.4211e-08 - accuracy: 1.0000 - 5s/epoch - 57ms/step\n",
            "Epoch 22/30\n",
            "88/88 - 5s - loss: 1.2635e-08 - accuracy: 1.0000 - 5s/epoch - 57ms/step\n",
            "Epoch 23/30\n",
            "88/88 - 5s - loss: 1.1505e-08 - accuracy: 1.0000 - 5s/epoch - 57ms/step\n",
            "Epoch 24/30\n",
            "88/88 - 5s - loss: 1.0355e-08 - accuracy: 1.0000 - 5s/epoch - 57ms/step\n",
            "Epoch 25/30\n",
            "88/88 - 5s - loss: 9.5453e-09 - accuracy: 1.0000 - 5s/epoch - 57ms/step\n",
            "Epoch 26/30\n",
            "88/88 - 5s - loss: 8.5652e-09 - accuracy: 1.0000 - 5s/epoch - 59ms/step\n",
            "Epoch 27/30\n",
            "88/88 - 5s - loss: 7.8407e-09 - accuracy: 1.0000 - 5s/epoch - 57ms/step\n",
            "Epoch 28/30\n",
            "88/88 - 5s - loss: 7.3720e-09 - accuracy: 1.0000 - 5s/epoch - 57ms/step\n",
            "Epoch 29/30\n",
            "88/88 - 5s - loss: 6.8393e-09 - accuracy: 1.0000 - 5s/epoch - 57ms/step\n",
            "Epoch 30/30\n",
            "88/88 - 5s - loss: 6.3706e-09 - accuracy: 1.0000 - 5s/epoch - 57ms/step\n"
          ]
        }
      ]
    },
    {
      "cell_type": "markdown",
      "source": [
        "**Dự Đoán Dữ Liệu Mới**"
      ],
      "metadata": {
        "id": "3v9_CP-0RzfK"
      }
    },
    {
      "cell_type": "code",
      "source": [
        "def predict(prediction):\n",
        "  classes = ['Arborio','Basmati','Ipsala','Jasmine','Karacadag']\n",
        "\n",
        "  img = load_img(prediction, target_size=(150,150,3))\n",
        "  plt.imshow(img)\n",
        "\n",
        "  imgRe = img_to_array(img)\n",
        "  imgRe = imgRe.reshape(1,150,150,3)  \n",
        "  imgRe = imgRe.astype('float32')\n",
        "  imgRe /= 255\n",
        "\n",
        "  a = int(np.argmax(model.predict(imgRe), axis=1))\n",
        "  print(classes[a])\n",
        "\n",
        "predict('/content/drive/MyDrive/predict/rice_predict/Arborio3.jpg')"
      ],
      "metadata": {
        "id": "bZdRqgWDKC82",
        "colab": {
          "base_uri": "https://localhost:8080/",
          "height": 304
        },
        "outputId": "fba59cbe-54d3-456d-ba96-7ed24f1da8af"
      },
      "execution_count": 23,
      "outputs": [
        {
          "output_type": "stream",
          "name": "stdout",
          "text": [
            "1/1 [==============================] - 0s 85ms/step\n",
            "Arborio\n"
          ]
        },
        {
          "output_type": "display_data",
          "data": {
            "text/plain": [
              "<Figure size 432x288 with 1 Axes>"
            ],
            "image/png": "[encoded data removed]"
          },
          "metadata": {
            "needs_background": "light"
          }
        }
      ]
    }
  ]
}